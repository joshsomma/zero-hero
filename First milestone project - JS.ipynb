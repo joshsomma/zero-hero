{
 "cells": [
  {
   "cell_type": "code",
   "execution_count": null,
   "metadata": {
    "collapsed": true
   },
   "outputs": [],
   "source": [
    "from IPython.display import clear_output"
   ]
  },
  {
   "cell_type": "code",
   "execution_count": null,
   "metadata": {
    "collapsed": true
   },
   "outputs": [],
   "source": [
    "# set up global vars\n",
    "game_over = False\n",
    "p1_turn = True\n",
    "player_move = 0"
   ]
  },
  {
   "cell_type": "code",
   "execution_count": null,
   "metadata": {},
   "outputs": [],
   "source": [
    "# _|_|_\n",
    "# _|_|_\n",
    "#  | |\n",
    "\n",
    "# create a list to hold positions\n",
    "board = list(range(1,10))\n",
    "board"
   ]
  },
  {
   "cell_type": "code",
   "execution_count": null,
   "metadata": {
    "collapsed": true
   },
   "outputs": [],
   "source": [
    "# print board function\n",
    "def print_board(board):\n",
    "    print(board[0], \" \", board[1], \" \", board[2])\n",
    "    print(board[3], \" \", board[4], \" \", board[5])\n",
    "    print(board[6], \" \", board[7], \" \", board[8])"
   ]
  },
  {
   "cell_type": "code",
   "execution_count": null,
   "metadata": {
    "collapsed": true
   },
   "outputs": [],
   "source": [
    "# Get player moves input functions\n",
    "\n",
    "def p1_move():\n",
    "    global p1_turn, player_move\n",
    "    p1_turn = False\n",
    "    player_move = int(input(\"Player 1 - pick a location on the board to mark an X\"))\n",
    "    return player_move\n",
    "\n",
    "def p2_move():\n",
    "    global p1_turn, player_move\n",
    "    p1_turn = True\n",
    "    player_move = int(input(\"Player 2 - pick a location on the board to mark an 0\"))\n",
    "    return player_move"
   ]
  },
  {
   "cell_type": "code",
   "execution_count": null,
   "metadata": {
    "collapsed": true
   },
   "outputs": [],
   "source": [
    "def assign_move(move):\n",
    "    board[move - 1] = \"X\""
   ]
  },
  {
   "cell_type": "code",
   "execution_count": null,
   "metadata": {},
   "outputs": [],
   "source": [
    "assign_move(p1_move())"
   ]
  },
  {
   "cell_type": "code",
   "execution_count": null,
   "metadata": {},
   "outputs": [],
   "source": [
    "print_board(board)"
   ]
  },
  {
   "cell_type": "code",
   "execution_count": null,
   "metadata": {
    "collapsed": true
   },
   "outputs": [],
   "source": []
  },
  {
   "cell_type": "code",
   "execution_count": null,
   "metadata": {
    "collapsed": true
   },
   "outputs": [],
   "source": []
  }
 ],
 "metadata": {
  "kernelspec": {
   "display_name": "Python 3",
   "language": "python",
   "name": "python3"
  },
  "language_info": {
   "codemirror_mode": {
    "name": "ipython",
    "version": 3
   },
   "file_extension": ".py",
   "mimetype": "text/x-python",
   "name": "python",
   "nbconvert_exporter": "python",
   "pygments_lexer": "ipython3",
   "version": "3.6.1"
  }
 },
 "nbformat": 4,
 "nbformat_minor": 2
}
